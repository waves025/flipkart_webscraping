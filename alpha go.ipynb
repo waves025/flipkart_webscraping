{
 "cells": [
  {
   "cell_type": "code",
   "execution_count": 5,
   "metadata": {},
   "outputs": [],
   "source": [
    "import urllib\n",
    "from bs4 import BeautifulSoup"
   ]
  },
  {
   "cell_type": "code",
   "execution_count": 6,
   "metadata": {},
   "outputs": [
    {
     "name": "stdout",
     "output_type": "stream",
     "text": [
      "https://en.wikipedia.org/wiki/AlphaGo\n"
     ]
    }
   ],
   "source": [
    "url = \"https://en.wikipedia.org/wiki/AlphaGo\"\n",
    "print(url)"
   ]
  },
  {
   "cell_type": "code",
   "execution_count": 7,
   "metadata": {},
   "outputs": [],
   "source": [
    "def make_alpha(theurl):\n",
    "    page = urllib.request.urlopen(theurl)\n",
    "    code = BeautifulSoup(page,'html.parser')\n",
    "    return code"
   ]
  },
  {
   "cell_type": "code",
   "execution_count": 8,
   "metadata": {},
   "outputs": [
    {
     "name": "stdout",
     "output_type": "stream",
     "text": [
      "AlphaGo - Wikipedia\n"
     ]
    }
   ],
   "source": [
    "alpha = make_alpha(url)\n",
    "print(alpha.title.text)"
   ]
  },
  {
   "cell_type": "code",
   "execution_count": 9,
   "metadata": {
    "collapsed": true
   },
   "outputs": [
    {
     "data": {
      "text/plain": [
       "'AlphaGo\\n\\nFrom Wikipedia, the free encyclopedia\\n\\n\\nJump to navigation\\nJump to search\\n\\n\\n AlphaGo logo\\nAlphaGo is a computer program that plays the board game Go.[1] It was developed by DeepMind Technologies [2] which was later acquired by Google. AlphaGo had three far more powerful successors, called AlphaGo Master, AlphaGo Zero[3] and AlphaZero.\\nIn October 2015, the original AlphaGo became the first computer Go program to beat a human professional Go player without handicap on a full-sized 19×19 board.[4][5] In March 2016, it beat Lee Sedol in a five-game match, the first time a computer Go program has beaten a 9-dan professional without handicap.[6] Although it lost to Lee Sedol in the fourth game, Lee resigned in the final game, giving a final score of 4 games to 1 in favour of AlphaGo. In recognition of the victory, AlphaGo was awarded an honorary 9-dan by the Korea Baduk Association.[7] The lead up and the challenge match with Lee Sedol were documented in a documentary film also titled AlphaGo,[8] directed by Greg Kohs. It was chosen by Science as one of the Breakthrough of the Year runners-up on 22 December 2016.[9]\\nAt the 2017 Future of Go Summit, its successor AlphaGo Master beat Ke Jie, the world No.1 ranked player at the time, in a three-game match (the even more powerful AlphaGo Zero already existed but was not yet announced). After this, AlphaGo was awarded professional 9-dan by the Chinese Weiqi Association.[10]\\nAlphaGo and its successors use a Monte Carlo tree search algorithm to find its moves based on knowledge previously \"learned\" by machine learning, specifically by an artificial neural network (a deep learning method) by extensive training, both from human and computer play.[11]  A neural network is trained to predict AlphaGo\\'s own move selections and also the winner\\'s games. This neural net improves the strength of tree search, resulting in higher quality of move selection and stronger self-play in the next iteration.\\nAfter the match between AlphaGo and Ke Jie, DeepMind retired AlphaGo, while continuing AI research in other areas.[12] Starting from a \\'blank page\\', with only a short training period, AlphaGo Zero achieved a 100-0 victory against the champion-defeating AlphaGo, while its successor, the self-taught AlphaZero, is currently perceived as the world\\'s top player in Go as well as possibly in  chess.\\n\\nContents\\n\\n1 History\\n\\n1.1 Match against Fan Hui\\n1.2 Match against Lee Sedol\\n1.3 Sixty online games\\n1.4 Future of Go Summit\\n1.5 AlphaGo Zero and AlphaZero\\n1.6 Teaching tool\\n\\n\\n2 Versions\\n3 Algorithm\\n4 Style of play\\n5 Responses to 2016 victory\\n\\n5.1 AI community\\n5.2 Go community\\n\\n\\n6 Similar systems\\n7 Example game\\n8 Impacts on Go\\n9 See also\\n10 References\\n11 External links\\n\\n\\nHistory[edit]\\nGo is considered much more difficult for computers to win than other games such as chess, because its much larger branching factor makes it prohibitively difficult to use traditional AI methods such as alpha–beta pruning, tree traversal and heuristic search.[4][13]\\nAlmost two decades after IBM\\'s computer Deep Blue beat world chess champion Garry Kasparov in the 1997 match, the strongest Go programs using artificial intelligence techniques only reached about amateur 5-dan level,[11] and still could not beat a professional Go player without a handicap.[4][5][14] In 2012, the software program Zen, running on a four PC cluster, beat Masaki Takemiya (9p) twice at five- and four-stone handicaps.[15] In 2013, Crazy Stone beat Yoshio Ishida (9p) at a four-stone handicap.[16]\\nAccording to DeepMind\\'s David Silver, the AlphaGo research project was formed around 2014 to test how well a neural network using deep learning can compete at Go.[17] AlphaGo represents a significant improvement over previous Go programs. In 500 games against other available Go programs, including Crazy Stone and Zen,[18] AlphaGo running on a single computer won all but one.[19] In a similar matchup, AlphaGo running on multiple computers won all 500 games played against other Go programs, and 77% of games played against AlphaGo running on a single computer. The distributed version in October 2015 was using 1,202 CPUs and 176 GPUs.[11]\\n\\nMatch against Fan Hui[edit]\\nMain article: AlphaGo versus Fan Hui\\nIn October 2015, the distributed version of AlphaGo defeated the European Go champion Fan Hui,[20] a 2-dan (out of 9 dan possible) professional, five to zero.[5][21] This was the first time a computer Go program had beaten a professional human player on a full-sized board without handicap.[22] The announcement of the news was delayed until 27 January 2016 to coincide with the publication of a paper in the journal Nature[11] describing the algorithms used.[5]\\n\\nMatch against Lee Sedol[edit]\\nMain article: AlphaGo versus Lee Sedol\\nAlphaGo played South Korean professional Go player Lee Sedol, ranked 9-dan, one of the best players at Go,[14][needs update] with five games taking place at the Four Seasons Hotel in Seoul, South Korea on 9, 10, 12, 13, and 15 March 2016,[23][24] which were video-streamed live.[25]  Out of five games, AlphaGo won four games and Lee won the fourth game which made him recorded as the only human player who beat AlphaGo in all of its 74 official games.[26] AlphaGo ran on Google\\'s cloud computing with its servers located in the United States.[27] The match used Chinese rules with a 7.5-point komi, and each side had two hours of thinking time plus three 60-second byoyomi periods.[28] The version of AlphaGo playing against Lee used a similar amount of computing power as was used in the Fan Hui match.[29] The Economist reported that it used 1,920 CPUs and 280 GPUs.[30] At the time of play, Lee Sedol had the second-highest number of Go international championship victories in the world after South Korean player Lee Changho who kept the world championship title for 16 years.[31] Since there is no single official method of ranking in international Go, the rankings may vary among the sources. While he was ranked top sometimes, some sources ranked Lee Sedol as the fourth-best player in the world at the time.[32][33] AlphaGo was not specifically trained to face Lee nor was designed to compete with any specific human players.\\nThe first three games were won by AlphaGo following resignations by Lee.[34][35] However, Lee beat AlphaGo in the fourth game, winning by resignation at move 180. AlphaGo then continued to achieve a fourth win, winning the fifth game by resignation.[36]\\nThe prize was US$1 million. Since AlphaGo won four out of five and thus the series, the prize will be donated to charities, including UNICEF.[37] Lee Sedol received $150,000 for participating in all five games and an additional $20,000 for his win.[28]\\nIn June 2016, at a presentation held at a university in the Netherlands, Aja Huang, one of the Deep Mind team, revealed that they had patched the logical weakness that occurred during the 4th game of the match between AlphaGo and Lee, and that after move 78 (which was dubbed the \"divine move\" by many professionals), it would play as intended and maintain Black\\'s advantage. Before move 78, AlphaGo was leading throughout the game, but Lee\\'s move caused the program\\'s computing powers to be diverted and confused.[38] Huang explained that AlphaGo\\'s policy network of finding the most accurate move order and continuation did not precisely guide AlphaGo to make the correct continuation after move 78, since its value network did not determine Lee\\'s 78th move as being the most likely, and therefore when the move was made AlphaGo could not make the right adjustment to the logical continuation.[39]\\n\\nSixty online games[edit]\\nMain article: Master (software)\\nOn 29 December 2016, a new account on the Tygem server named \"Magister\" (shown as \\'Magist\\' at the server\\'s Chinese version) from South Korea began to play games with professional players. It changed its account name to \"Master\" on 30 December, then moved to the FoxGo server on 1 January 2017. On 4 January, DeepMind confirmed that the \"Magister\" and the \"Master\" were both played by an updated version of AlphaGo, called AlphaGo Master.[40][41] As of 5 January 2017, AlphaGo Master\\'s online record was 60 wins and 0 losses,[42] including three victories over Go\\'s top-ranked player, Ke Jie,[43] who had been quietly briefed in advance that Master was a version of AlphaGo.[42] After losing to Master, Gu Li offered a bounty of 100,000 yuan (US$14,400) to the first human player who could defeat Master.[41] Master played at the pace of 10 games per day. Many quickly suspected it to be an AI player due to little or no resting between games. Its adversaries included many world champions such as Ke Jie, Park Jeong-hwan, Yuta Iyama, Tuo Jiaxi, Mi Yuting, Shi Yue, Chen Yaoye, Li Qincheng, Gu Li, Chang Hao, Tang Weixing, Fan Tingyu, Zhou Ruiyang, Jiang Weijie, Chou Chun-hsun, Kim Ji-seok, Kang Dong-yun, Park Yeong-hun, and Won Seong-jin; national champions or world championship runners-up such as Lian Xiao, Tan Xiao, Meng Tailing, Dang Yifei, Huang Yunsong, Yang Dingxin, Gu Zihao, Shin Jinseo, Cho Han-seung, and An Sungjoon. All 60 games except one were fast-paced games with three 20 or 30 seconds byo-yomi. Master offered to extend the byo-yomi to one minute when playing with Nie Weiping in consideration of his age. After winning its 59th game Master revealed itself in the chatroom to be controlled by Dr. Aja Huang of the DeepMind team,[44] then changed its nationality to the United Kingdom. After these games were completed, the co-founder of Google DeepMind, Demis Hassabis, said in a tweet, \"we\\'re looking forward to playing some official, full-length games later [2017] in collaboration with Go organizations and experts\".[40][41]\\nGo experts were impressed by the program\\'s performance and its nonhuman play style; Ke Jie stated that \"After humanity spent thousands of years improving our tactics, computers tell us that humans are completely wrong... I would go as far as to say not a single human has touched the edge of the truth of Go.\"[42]\\n\\nFuture of Go Summit[edit]\\nMain article: Future of Go Summit\\nFurther information: AlphaGo versus Ke Jie\\nIn the Future of Go Summit held in Wuzhen in May 2017, AlphaGo Master played three games with Ke Jie, the world No.1 ranked player, as well as two games with several top Chinese professionals, one pair Go game and one against a collaborating team of five human players.[45]\\nGoogle DeepMind offered 1.5 million dollar winner prizes for the three-game match between Ke Jie and Master while the losing side took 300,000 dollars.[46][47][48] Master won all three games against Ke Jie,[49][50] after which AlphaGo was awarded professional 9-dan by the Chinese Weiqi Association.[10]\\nAfter winning its three-game match against Ke Jie, the top-rated world Go player, AlphaGo retired. DeepMind also disbanded the team that worked on the game to focus on AI research in other areas.[12] After the Summit, Deepmind published 50 full length AlphaGo vs AlphaGo matches, as a gift to the Go community.[51]\\n\\nAlphaGo Zero and AlphaZero[edit]\\nMain articles: AlphaGo Zero and AlphaZero\\nAlphaGo\\'s team published an article in the journal Nature on 19 October 2017, introducing AlphaGo Zero, a version without human data and stronger than any previous human-champion-defeating version.[52] By playing games against itself, AlphaGo Zero surpassed the strength of AlphaGo Lee in three days by winning 100 games to 0, reached the level of AlphaGo Master in 21 days, and exceeded all the old versions in 40 days.[53]\\nIn a paper released on arXiv on 5 December 2017, DeepMind claimed that it generalized AlphaGo Zero\\'s approach into a single AlphaZero algorithm, which achieved within 24 hours a superhuman level of play in the games of chess, shogi, and Go by defeating world-champion programs, Stockfish, Elmo, and 3-day version of AlphaGo Zero in each case.[54]\\n\\nTeaching tool[edit]\\nOn 11 December 2017, DeepMind released AlphaGo teaching tool on its website[55] to analyze winning rates of different Go openings as calculated by AlphaGo Master.[56] The teaching tool collects 6,000 Go openings from 230,000 human games each analyzed with 10,000,000 simulations by AlphaGo Master. Many of the openings include human move suggestions.[56]\\n\\nVersions[edit]\\nAn early version of AlphaGo was tested on hardware with various numbers of CPUs and GPUs, running in asynchronous or distributed mode. Two seconds of thinking time was given to each move. The resulting Elo ratings are listed below.[11] In the matches with more time per move higher ratings are achieved.\\n\\n\\nConfiguration and performance\\n\\n\\nConfiguration\\nSearchthreads\\nNo. of CPU\\nNo. of GPU\\nElo rating\\n\\n\\nSingle[11] p.\\xa010–11\\n40\\n48\\n1\\n2,181\\n\\n\\nSingle\\n40\\n48\\n2\\n2,738\\n\\n\\nSingle\\n40\\n48\\n4\\n2,850\\n\\n\\nSingle\\n40\\n48\\n8\\n2,890\\n\\n\\nDistributed\\n12\\n428\\n64\\n2,937\\n\\n\\nDistributed\\n24\\n764\\n112\\n3,079\\n\\n\\nDistributed\\n40\\n1,202\\n176\\n3,140\\n\\n\\nDistributed\\n64\\n1,920\\n280\\n3,168\\n\\nIn May 2016, Google unveiled its own proprietary hardware \"tensor processing units\", which it stated had already been deployed in multiple internal projects at Google, including the AlphaGo match against Lee Sedol.[57][58]\\nIn the Future of Go Summit in May 2017, DeepMind disclosed that the version of AlphaGo used in this Summit was AlphaGo Master,[59][60] and revealed that it had measured the strength of different versions of the software. AlphaGo Lee, the version used against Lee, could give AlphaGo Fan, the version used in AlphaGo vs. Fan Hui, three stones, and AlphaGo Master was even three stones stronger.[61]\\n\\n\\nConfiguration and strength[62]\\n\\n\\nVersions\\nHardware\\nElo rating\\nDate\\nResults\\n\\n\\nAlphaGo Fan\\n176 GPUs,[53] distributed\\n3,144[52]\\nOct 2015\\n5:0 against Fan Hui\\n\\n\\nAlphaGo Lee\\n48 TPUs,[53] distributed\\n3,739[52]\\nMar 2016\\n4:1 against Lee Sedol\\n\\n\\nAlphaGo Master\\n4 TPUs,[53] single machine\\n4,858[52]\\nMay 2017\\n60:0 against professional players;Future of Go Summit\\n\\n\\nAlphaGo Zero\\n4 TPUs,[53] single machine\\n5,185[52]\\nOct 2017\\n100:0 against AlphaGo Lee\\n89:11 against AlphaGo Master\\n\\n\\n\\nAlphaZero\\n4 TPUs, single machine\\nN/A\\nDec 2017\\n60:40 against AlphaGo Zero\\n\\nAlgorithm[edit]\\nAs of 2016, AlphaGo\\'s algorithm uses a combination of machine learning and tree search techniques, combined with extensive training, both from human and computer play. It uses Monte Carlo tree search, guided by a \"value network\" and a \"policy network,\" both implemented using deep neural network technology.[4][11] A limited amount of game-specific feature detection pre-processing (for example, to highlight whether a move matches a nakade pattern) is applied to the input before it is sent to the neural networks.[11]\\nThe system\\'s neural networks were initially bootstrapped from human gameplay expertise. AlphaGo was initially trained to mimic human play by attempting to match the moves of expert players from recorded historical games, using a database of around 30 million moves.[20] Once it had reached a certain degree of proficiency, it was trained further by being set to play large numbers of games against other instances of itself, using reinforcement learning to improve its play.[4] To avoid \"disrespectfully\" wasting its opponent\\'s time, the program is specifically programmed to resign if its assessment of win probability falls beneath a certain threshold; for the match against Lee, the resignation threshold was set to 20%.[63]\\n\\nStyle of play[edit]\\nToby Manning, the match referee for AlphaGo vs. Fan Hui, has described the program\\'s style as \"conservative\".[64] AlphaGo\\'s playing style strongly favours greater probability of winning by fewer points over lesser probability of winning by more points.[17] Its strategy of maximising its probability of winning is distinct from what human players tend to do which is to maximise territorial gains, and explains some of its odd-looking moves.[65] It makes a lot of opening moves that have never or seldom been made by humans, while avoiding many second-line opening moves that human players like to make. It likes to use shoulder hits, especially if the opponent is over concentrated.[citation needed]\\n\\nResponses to 2016 victory[edit]\\nAI community[edit]\\nAlphaGo\\'s March 2016 victory was a major milestone in artificial intelligence research.[66] Go had previously been regarded as a hard problem in machine learning that was expected to be out of reach for the technology of the time.[66][67][68] Most experts thought a Go program as powerful as AlphaGo was at least five years away;[69] some experts thought that it would take at least another decade before computers would beat Go champions.[11][70][71] Most observers at the beginning of the 2016 matches expected Lee to beat AlphaGo.[66]\\nWith games such as checkers (that has been \"solved\" by the Chinook draughts player team), chess, and now Go won by computers, victories at popular board games can no longer serve as major milestones for artificial intelligence in the way that they used to. Deep Blue\\'s Murray Campbell called AlphaGo\\'s victory \"the end of an era... board games are more or less done and it\\'s time to move on.\"[66]\\nWhen compared with Deep Blue or Watson, AlphaGo\\'s underlying algorithms are potentially more general-purpose and may be evidence that the scientific community is making progress towards artificial general intelligence.[17][72] Some commentators believe AlphaGo\\'s victory makes for a good opportunity for society to start preparing for the possible future impact of machines with general purpose intelligence. As noted by entrepreneur Guy Suter, AlphaGo only knows how to play Go and doesn\\'t possess general-purpose intelligence; \"[It] couldn\\'t just wake up one morning and decide it wants to learn how to use firearms.\"[66] AI researcher Stuart Russell said that AI systems such as AlphaGo have progressed quicker and become more powerful than expected, and we must therefore develop methods to ensure they \"remain under human control\".[73] Some scholars,  such as Stephen Hawking, warned (in May 2015 before the matches) that some future self-improving AI could gain actual general intelligence, leading to an unexpected AI takeover; other scholars disagree: AI expert Jean-Gabriel Ganascia believes that \"Things like \\'common sense\\'... may never be reproducible\",[74] and says \"I don\\'t see why we would speak about fears. On the contrary, this raises hopes in many domains such as health and space exploration.\"[73] Computer scientist Richard Sutton said \"I don\\'t think people should be scared... but I do think people should be paying attention.\"[75]\\nIn China, AlphaGo was a \"Sputnik moment\" which helped convince the Chinese government to prioritize and dramatically increase funding for artificial intelligence.[76]\\nIn 2017, the DeepMind AlphaGo team received the inaugural IJCAI Marvin Minsky medal for Outstanding Achievements in AI. “AlphaGo is a wonderful achievement, and a perfect example of what the Minsky Medal was initiated to recognise”, said Professor Michael Wooldridge, Chair of the IJCAI Awards Committee.  “What particularly impressed IJCAI was that AlphaGo achieves what it does through a brilliant combination of classic AI techniques as well as the state-of-the-art machine learning techniques that DeepMind is so closely associated with. It’s a breathtaking demonstration of contemporary AI, and we are delighted to be able to recognise it with this award.”[77]\\n\\nGo community[edit]\\nGo is a popular game in China, Japan and Korea, and the 2016 matches were watched by perhaps a hundred million people worldwide.[66][78] Many top Go players characterized AlphaGo\\'s unorthodox plays as seemingly-questionable moves that initially befuddled onlookers, but made sense in hindsight:[70] \"All but the very best Go players craft their style by imitating top players. AlphaGo seems to have totally original moves it creates itself.\"[66] AlphaGo appeared to have unexpectedly become much stronger, even when compared with its October 2015 match[79] where a computer had beaten a Go professional for the first time ever without the advantage of a handicap.[80] The day after Lee\\'s first defeat, Jeong Ahram, the lead Go correspondent for one of South Korea\\'s biggest daily newspapers, said \"Last night was very gloomy... Many people drank alcohol.\"[81] The Korea Baduk Association, the organization that oversees Go professionals in South Korea, awarded AlphaGo an honorary 9-dan title for exhibiting creative skills and pushing forward the game\\'s progress.[82]\\nChina\\'s Ke Jie, an 18-year-old generally recognized as the world\\'s best Go player at the time,[32][83] initially claimed that he would be able to beat AlphaGo, but declined to play against it for fear that it would \"copy my style\".[83] As the matches progressed, Ke Jie went back and forth, stating that \"it is highly likely that I (could) lose\" after analysing the first three matches,[84] but regaining confidence after AlphaGo displayed flaws in the fourth match.[85]\\nToby Manning, the referee of AlphaGo\\'s match against Fan Hui, and Hajin Lee, secretary general of the International Go Federation, both reason that in the future, Go players will get help from computers to learn what they have done wrong in games and improve their skills.[80]\\nAfter game two, Lee said he felt \"speechless\": \"From the very beginning of the match, I could never manage an upper hand for one single move. It was AlphaGo\\'s total victory.\"[86] Lee apologized for his losses, stating after game three that \"I misjudged the capabilities of AlphaGo and felt powerless.\"[66] He emphasized that the defeat was \"Lee Se-dol\\'s defeat\" and \"not a defeat of mankind\".[26][74] Lee said his eventual loss to a machine was \"inevitable\" but stated that \"robots will never understand the beauty of the game the same way that we humans do.\"[74] Lee called his game four victory a \"priceless win that I (would) not exchange for anything.\"[26]\\n\\nSimilar systems[edit]\\nFacebook has also been working on its own Go-playing system darkforest, also based on combining machine learning and Monte Carlo tree search.[64][87] Although a strong player against other computer Go programs, as of early 2016, it had not yet defeated a professional human player.[88] Darkforest has lost to CrazyStone and Zen and is estimated to be of similar strength to CrazyStone and Zen.[89]\\nDeepZenGo, a system developed with support from video-sharing website Dwango and the University of Tokyo, lost 2–1 in November 2016 to Go master Cho Chikun, who holds the record for the largest number of Go title wins in Japan.[90][91]\\nA 2018 paper in Nature cited AlphaGo\\'s approach as the basis for a new means of computing potential pharmaceutical drug molecules.[92]\\n\\nExample game[edit]\\nAlphaGo Master (white) v. Tang Weixing (31 December 2016), AlphaGo won by resignation. White 36 was widely praised.\\n\\n\\n\\n\\n\\n\\n\\n\\n\\n\\n\\n\\n\\n\\n\\n\\n\\n\\n\\n\\n\\n\\n\\n\\n\\n\\n\\n\\n\\n\\n\\n\\n\\n\\n\\n\\n\\n\\n\\n\\n\\n\\n\\n\\n\\n\\n\\n\\n\\n\\n\\n\\n\\n\\n\\n\\n\\n\\n\\n\\n\\n\\n\\n\\n\\n\\n\\n\\n\\n\\n\\n\\n\\n\\n\\n\\n\\n\\n\\n\\n\\n\\n\\n\\n\\n\\n\\n\\n\\n\\n\\n\\n\\n\\n\\n\\n\\n\\n\\n\\n\\n\\n\\n\\n\\n\\n\\n\\n\\n\\n\\n\\n\\n\\n\\n\\n\\n\\n\\n\\n\\n\\n\\n\\n\\n\\n\\n\\n\\n\\n\\n\\n\\n\\n\\n\\n\\n\\n\\n\\n\\n\\n\\n\\n\\n\\n\\n\\n\\n\\n\\n\\n\\n\\n\\n\\n\\n\\n\\n\\n\\n\\n\\n\\n\\n\\n\\n\\n\\n\\n\\n\\n\\n\\n\\n\\n\\n\\n\\n\\n\\n\\n\\n\\n\\n\\n\\n\\n\\n\\n\\n\\n\\n\\n\\n\\n\\n\\n\\n\\n\\n\\n\\n\\n\\n\\n\\n\\n\\n\\n\\n\\n\\n\\n\\n\\n\\n\\n\\n\\n\\n\\n\\n\\n\\n\\n\\n\\n\\n\\n\\n\\n\\n\\n\\n\\n\\n\\n\\n\\n\\n\\n\\n\\n\\n\\n\\n\\n\\n\\n\\n\\n\\n\\n\\n\\n\\n\\n\\n\\n\\n\\n\\n\\n\\n\\n\\n\\n\\n\\n\\n\\n\\n\\n\\n\\n\\n\\n\\n\\n\\n\\n\\n\\n\\n\\n\\n\\n\\n\\n\\n\\n\\n\\n\\n\\n\\n\\n\\n\\n\\n\\n\\n\\n\\n\\n\\n\\n\\n\\n\\n\\n\\n\\n\\n\\n\\n\\n\\n\\n\\n\\n\\n\\n\\n\\n\\n\\n\\n\\n\\n\\n\\n\\n\\n\\n\\n\\n\\n\\n\\n\\n\\n\\n\\n\\n\\n\\n\\n\\n\\n\\n\\n\\n\\n\\n\\n\\n\\n\\n\\n\\n\\n\\n\\n\\n\\n\\n\\n\\n\\n\\n\\n\\n\\n\\n\\n\\n\\n\\n\\n\\n\\n\\n\\n\\n\\n\\n\\n\\n\\n\\n\\n\\n\\n\\n\\n\\n\\n\\n\\n\\n\\n\\n\\n\\n\\n\\n\\n\\n\\n\\n\\n\\n\\n\\n\\n\\n\\n\\n\\n\\n\\n\\n\\n\\n\\n\\n\\n\\n\\n\\n\\n\\n\\n\\n\\n\\n\\n\\n\\n\\n\\n\\n\\n\\n\\n\\n\\n\\n\\n\\n\\n\\n\\n\\n\\n\\n\\n\\n\\n\\n\\n\\n\\n\\n\\n\\n\\n\\n\\n\\n\\n\\n\\n\\n\\n\\n\\n\\n\\n\\n\\n\\n\\n\\n\\n\\n\\n\\n\\n\\n\\n\\n\\n\\n\\n\\n\\n\\n\\n\\n\\n\\n\\n\\n\\n\\n\\n\\n\\n\\n\\n\\n\\n\\n\\n\\n\\n\\n\\n\\n\\n\\n\\n\\n\\n\\n\\n\\n\\n\\n\\n\\n\\n\\n\\n\\n\\n\\n\\n\\n\\n\\n\\n\\n\\n\\n\\n\\n\\n\\n\\n\\n\\n\\n\\n\\n\\n\\n\\n\\n\\n\\n\\n\\n\\n\\n\\n\\n\\n\\n\\n\\n\\n\\n\\n\\n\\n\\n\\n\\n\\n\\n\\n\\n\\n\\n\\n\\n\\n\\n\\n\\n\\n\\n\\n\\n\\n\\n\\n\\n\\n\\n\\n\\n\\n\\n\\n\\n\\n\\n\\n\\n\\n\\n\\n\\n\\n\\n\\n\\n\\n\\n\\n\\n\\n\\n\\n\\n\\n\\n\\n\\n\\n\\n\\n\\n\\n\\n\\n\\n\\n\\n\\n\\n\\n\\n\\n\\n\\n\\n\\n\\n\\n\\n\\n\\n\\n\\n\\n\\n\\n\\n\\n\\n\\n\\n\\n\\n\\n\\n\\n\\n\\n\\n\\n\\n\\n\\n\\n\\n\\n\\n\\n\\n\\n\\n\\n\\n\\n\\n\\n\\n\\n\\n\\n\\n\\n\\n\\n\\n\\n\\n\\n\\n\\n\\n\\n\\n\\n\\n\\n\\n\\n\\n\\n\\n\\n\\n\\n\\n\\n\\n\\n\\n\\n\\n\\n\\n\\n\\n\\n\\n\\n\\n\\n\\n\\n\\n\\n\\n\\n\\n\\n\\n\\n\\n\\nFirst 99 moves\\n\\n\\n\\n\\n\\n\\n\\n\\n\\n\\n\\n\\n\\n\\n\\n\\n\\n\\n\\n\\n\\n\\n\\n\\n\\n\\n\\n\\n\\n\\n\\n\\n\\n\\n\\n\\n\\n\\n\\n\\n\\n\\n\\n\\n\\n\\n\\n\\n\\n\\n\\n\\n\\n\\n\\n\\n\\n\\n\\n\\n\\n\\n\\n\\n\\n\\n\\n\\n\\n\\n\\n\\n\\n\\n\\n\\n\\n\\n\\n\\n\\n\\n\\n\\n\\n\\n\\n\\n\\n\\n\\n\\n\\n\\n\\n\\n\\n\\n\\n\\n\\n\\n\\n\\n\\n\\n\\n\\n\\n\\n\\n\\n\\n\\n\\n\\n\\n\\n\\n\\n\\n\\n\\n\\n\\n\\n\\n\\n\\n\\n\\n\\n\\n\\n\\n\\n\\n\\n\\n\\n\\n\\n\\n\\n\\n\\n\\n\\n\\n\\n\\n\\n\\n\\n\\n\\n\\n\\n\\n\\n\\n\\n\\n\\n\\n\\n\\n\\n\\n\\n\\n\\n\\n\\n\\n\\n\\n\\n\\n\\n\\n\\n\\n\\n\\n\\n\\n\\n\\n\\n\\n\\n\\n\\n\\n\\n\\n\\n\\n\\n\\n\\n\\n\\n\\n\\n\\n\\n\\n\\n\\n\\n\\n\\n\\n\\n\\n\\n\\n\\n\\n\\n\\n\\n\\n\\n\\n\\n\\n\\n\\n\\n\\n\\n\\n\\n\\n\\n\\n\\n\\n\\n\\n\\n\\n\\n\\n\\n\\n\\n\\n\\n\\n\\n\\n\\n\\n\\n\\n\\n\\n\\n\\n\\n\\n\\n\\n\\n\\n\\n\\n\\n\\n\\n\\n\\n\\n\\n\\n\\n\\n\\n\\n\\n\\n\\n\\n\\n\\n\\n\\n\\n\\n\\n\\n\\n\\n\\n\\n\\n\\n\\n\\n\\n\\n\\n\\n\\n\\n\\n\\n\\n\\n\\n\\n\\n\\n\\n\\n\\n\\n\\n\\n\\n\\n\\n\\n\\n\\n\\n\\n\\n\\n\\n\\n\\n\\n\\n\\n\\n\\n\\n\\n\\n\\n\\n\\n\\n\\n\\n\\n\\n\\n\\n\\n\\n\\n\\n\\n\\n\\n\\n\\n\\n\\n\\n\\n\\n\\n\\n\\n\\n\\n\\n\\n\\n\\n\\n\\n\\n\\n\\n\\n\\n\\n\\n\\n\\n\\n\\n\\n\\n\\n\\n\\n\\n\\n\\n\\n\\n\\n\\n\\n\\n\\n\\n\\n\\n\\n\\n\\n\\n\\n\\n\\n\\n\\n\\n\\n\\n\\n\\n\\n\\n\\n\\n\\n\\n\\n\\n\\n\\n\\n\\n\\n\\n\\n\\n\\n\\n\\n\\n\\n\\n\\n\\n\\n\\n\\n\\n\\n\\n\\n\\n\\n\\n\\n\\n\\n\\n\\n\\n\\n\\n\\n\\n\\n\\n\\n\\n\\n\\n\\n\\n\\n\\n\\n\\n\\n\\n\\n\\n\\n\\n\\n\\n\\n\\n\\n\\n\\n\\n\\n\\n\\n\\n\\n\\n\\n\\n\\n\\n\\n\\n\\n\\n\\n\\n\\n\\n\\n\\n\\n\\n\\n\\n\\n\\n\\n\\n\\n\\n\\n\\n\\n\\n\\n\\n\\n\\n\\n\\n\\n\\n\\n\\n\\n\\n\\n\\n\\n\\n\\n\\n\\n\\n\\n\\n\\n\\n\\n\\n\\n\\n\\n\\n\\n\\n\\n\\n\\n\\n\\n\\n\\n\\n\\n\\n\\n\\n\\n\\n\\n\\n\\n\\n\\n\\n\\n\\n\\n\\n\\n\\n\\n\\n\\n\\n\\n\\n\\n\\n\\n\\n\\n\\n\\n\\n\\n\\n\\n\\n\\n\\n\\n\\n\\n\\n\\n\\n\\n\\n\\n\\n\\n\\n\\n\\n\\n\\n\\n\\n\\n\\n\\n\\n\\n\\n\\n\\n\\n\\n\\n\\n\\n\\n\\n\\n\\n\\n\\n\\n\\n\\n\\n\\n\\n\\n\\n\\n\\n\\n\\n\\n\\n\\n\\n\\n\\n\\n\\n\\n\\n\\n\\n\\n\\n\\n\\n\\n\\n\\n\\n\\n\\n\\n\\n\\n\\n\\n\\n\\n\\n\\n\\n\\n\\n\\n\\n\\n\\n\\n\\n\\n\\n\\n\\n\\n\\n\\n\\n\\n\\n\\n\\n\\n\\n\\n\\n\\n\\n\\n\\n\\n\\n\\n\\n\\n\\n\\n\\n\\n\\n\\n\\n\\n\\n\\n\\n\\n\\n\\n\\n\\n\\n\\n\\n\\n\\n\\n\\n\\n\\n\\n\\n\\n\\n\\n\\nMoves 100–186 (149 at 131, 150 at 130)\\n\\nImpacts on Go[edit]\\nThe AlphaGo documentary film[93][94] raised hopes that Lee Sedol and Fan Hui would have benefitted from their experience of playing AlphaGo, but as of May 2018 their ratings were little changed; Lee Sedol was ranked 11th in the world, and Fan Hui 545th.[95] However the overall Go community may have been moved forward in how it plays the game.[citation needed]\\n\\nSee also[edit]\\nChinook (draughts player), draughts playing program\\nGlossary of artificial intelligence\\nGo and mathematics\\nLeela (software)\\nTD-Gammon, backgammon neural network\\nPluribus (poker bot)\\nReferences[edit]\\n\\n\\n^ \"Artificial intelligence: Google\\'s AlphaGo beats Go master Lee Se-dol\". BBC News. Retrieved 17 March 2016..mw-parser-output cite.citation{font-style:inherit}.mw-parser-output .citation q{quotes:\"\\\\\"\"\"\\\\\"\"\"\\'\"\"\\'\"}.mw-parser-output .id-lock-free a,.mw-parser-output .citation .cs1-lock-free a{background:url(\"//upload.wikimedia.org/wikipedia/commons/thumb/6/65/Lock-green.svg/9px-Lock-green.svg.png\")no-repeat;background-position:right .1em center}.mw-parser-output .id-lock-limited a,.mw-parser-output .id-lock-registration a,.mw-parser-output .citation .cs1-lock-limited a,.mw-parser-output .citation .cs1-lock-registration a{background:url(\"//upload.wikimedia.org/wikipedia/commons/thumb/d/d6/Lock-gray-alt-2.svg/9px-Lock-gray-alt-2.svg.png\")no-repeat;background-position:right .1em center}.mw-parser-output .id-lock-subscription a,.mw-parser-output .citation .cs1-lock-subscription a{background:url(\"//upload.wikimedia.org/wikipedia/commons/thumb/a/aa/Lock-red-alt-2.svg/9px-Lock-red-alt-2.svg.png\")no-repeat;background-position:right .1em center}.mw-parser-output .cs1-subscription,.mw-parser-output .cs1-registration{color:#555}.mw-parser-output .cs1-subscription span,.mw-parser-output .cs1-registration span{border-bottom:1px dotted;cursor:help}.mw-parser-output .cs1-ws-icon a{background:url(\"//upload.wikimedia.org/wikipedia/commons/thumb/4/4c/Wikisource-logo.svg/12px-Wikisource-logo.svg.png\")no-repeat;background-position:right .1em center}.mw-parser-output code.cs1-code{color:inherit;background:inherit;border:inherit;padding:inherit}.mw-parser-output .cs1-hidden-error{display:none;font-size:100%}.mw-parser-output .cs1-visible-error{font-size:100%}.mw-parser-output .cs1-maint{display:none;color:#33aa33;margin-left:0.3em}.mw-parser-output .cs1-subscription,.mw-parser-output .cs1-registration,.mw-parser-output .cs1-format{font-size:95%}.mw-parser-output .cs1-kern-left,.mw-parser-output .cs1-kern-wl-left{padding-left:0.2em}.mw-parser-output .cs1-kern-right,.mw-parser-output .cs1-kern-wl-right{padding-right:0.2em}\\n\\n^ \"DeepMind AlphaGO\". DeepMind Artificial Intelligence AlphaGo.\\n\\n^ \"AlphaGo | DeepMind\". DeepMind.\\n\\n^ a b c d e \"Research Blog: AlphaGo: Mastering the ancient game of Go with Machine Learning\". Google Research Blog. 27 January 2016.\\n\\n^ a b c d \"Google achieves AI \\'breakthrough\\' by beating Go champion\". BBC News. 27 January 2016.\\n\\n^ \"Match 1 – Google DeepMind Challenge Match: Lee Sedol vs AlphaGo\". 8 March 2016.\\n\\n^ \"Google\\'s AlphaGo gets \\'divine\\' Go ranking\". straitstimes.com. 15 March 2016. Retrieved 9 December 2017.\\n\\n^ \"AlphaGo Movie\".\\n\\n^ \"From AI to protein folding: Our Breakthrough runners-up\". Science. 22 December 2016. Retrieved 29 December 2016.\\n\\n^ a b \"中国围棋协会授予AlphaGo职业九段 并颁发证书\" (in Chinese). Sohu.com. 27 May 2017. Retrieved 9 December 2017.\\n\\n^ a b c d e f g h i Silver, David; Huang, Aja; Maddison, Chris J.; Guez, Arthur; Sifre, Laurent; Driessche, George van den; Schrittwieser, Julian; Antonoglou, Ioannis; Panneershelvam, Veda; Lanctot, Marc; Dieleman, Sander; Grewe, Dominik; Nham, John; Kalchbrenner, Nal; Sutskever, Ilya; Lillicrap, Timothy; Leach, Madeleine; Kavukcuoglu, Koray; Graepel, Thore; Hassabis, Demis (28 January 2016). \"Mastering the game of Go with deep neural networks and tree search\". Nature. 529 (7587): 484–489. Bibcode:2016Natur.529..484S. doi:10.1038/nature16961. ISSN\\xa00028-0836. PMID\\xa026819042.\\n\\n^ a b \"After Win in China, AlphaGo\\'s Designers Explore New AI\". 27 May 2017.\\n\\n^ Schraudolph, Nicol N.; Terrence, Peter Dayan; Sejnowski, J., Temporal Difference Learning of Position Evaluation in the Game of Go (PDF)\\n\\n^ a b \"Computer scores big win against humans in ancient game of Go\". CNN. 28 January 2016. Retrieved 28 January 2016.\\n\\n^ \"Zen computer Go program beats Takemiya Masaki with just 4 stones!\". Go Game Guru. Archived from the original on 1 February 2016. Retrieved 28 January 2016.\\n\\n^ \"「アマ六段の力。天才かも」囲碁棋士、コンピューターに敗れる\\u3000初の公式戦\". MSN Sankei News. Archived from the original on 24 March 2013. Retrieved 27 March 2013.\\n\\n^ a b c John Riberio (14 March 2016). \"AlphaGo\\'s unusual moves prove its AI prowess, experts say\". PC World. Retrieved 18 March 2016.\\n\\n^ \"Artificial intelligence breakthrough as Google\\'s software beats grandmaster of Go, the \\'most complex game ever devised\\'\". Daily Mail. 27 January 2016. Retrieved 29 January 2016.\\n\\n^ \"Google AlphaGo AI clean sweeps European Go champion\". ZDNet. 28 January 2016. Retrieved 28 January 2016.\\n\\n^ a b Metz, Cade (27 January 2016). \"In Major AI Breakthrough, Google System Secretly Beats Top Player at the Ancient Game of Go\". WIRED. Retrieved 1 February 2016.\\n\\n^ \"Special Computer Go insert covering the AlphaGo v Fan Hui match\" (PDF). British Go Journal. 2017. Retrieved 1 February 2016.\\n\\n^ \"Première défaite d\\'un professionnel du go contre une intelligence artificielle\". Le Monde (in French). 27 January 2016.\\n\\n^ \"Google\\'s AI AlphaGo to take on world No 1 Lee Sedol in live broadcast\". The Guardian. 5 February 2016. Retrieved 15 February 2016.\\n\\n^ \"Google DeepMind is going to take on the world\\'s best Go player in a luxury 5-star hotel in South Korea\". Business Insider. 22 February 2016. Retrieved 23 February 2016.\\n\\n^ Novet, Jordan (4 February 2016). \"YouTube will livestream Google\\'s AI playing Go superstar Lee Sedol in March\". VentureBeat. Retrieved 7 February 2016.\\n\\n^ a b c Yoon Sung-won (14 March 2016). \"Lee Se-dol shows AlphaGo beatable\". The Korea Times. Retrieved 15 March 2016.\\n\\n^ \"李世乭：即使Alpha Go得到升级也一样能赢\". JoongAng Ilbo (in Chinese). 23 February 2016. Retrieved 24 February 2016.\\n\\n^ a b \"이세돌 vs 알파고, \\'구글 딥마인드 챌린지 매치\\' 기자회견 열려\" (in Korean). Korea Baduk Association. 22 February 2016. Archived from the original on 3 March 2016. Retrieved 22 February 2016.\\n\\n^ Demis Hassabis [@demishassabis] (11 March 2016). \"We are using roughly same amount of compute power as in Fan Hui match: distributing search over further machines has diminishing returns\" (Tweet). Retrieved 14 March 2016 – via Twitter. \\n\\n^ \"Showdown\". The Economist. Retrieved 19 November 2016.\\n\\n^ Steven Borowiec (9 March 2016). \"Google\\'s AI machine v world champion of \\'Go\\': everything you need to know\". The Guardian. Retrieved 15 March 2016.\\n\\n^ a b Rémi Coulom. \"Rating List of 2016-01-01\". Archived from the original on 18 March 2016. Retrieved 18 March 2016.\\n\\n^ \"Korean Go master proves human intuition still powerful in Go\". The Korean Herald/ANN. 14 March 2016. Archived from the original on 12 April 2016. Retrieved 15 March 2016.\\n\\n^ \"Google\\'s AI beats world Go champion in first of five matches – BBC News\". BBC Online. Retrieved 9 March 2016.\\n\\n^ \"Google AI wins second Go game against world champion – BBC News\". BBC Online. Retrieved 10 March 2016.\\n\\n^ \"Google DeepMind AI wins final Go match for 4–1 series win\". Engadget. Retrieved 15 March 2016.\\n\\n^ \"Human champion certain he\\'ll beat AI at ancient Chinese game\". Associated Press. 22 February 2016. Retrieved 22 February 2016.\\n\\n^ \"In Two Moves, AlphaGo and Lee Sedol Redefined the Future\". WIRED. Retrieved 12 November 2017.\\n\\n^ \"黄士杰：AlphaGo李世石人机大战第四局问题已解决date=8 July 2016\" (in Chinese). Retrieved 8 July 2016.\\n\\n^ a b Demis Hassabis (4 January 2017). \"Demis Hassabis on Twitter: \"Excited to share an update on #AlphaGo!\"\". Demis Hassabis\\'s Twitter account. Retrieved 4 January 2017.\\n\\n^ a b c Elizabeth Gibney (4 January 2017). \"Google reveals secret test of AI bot to beat top Go players\". Nature. Retrieved 4 January 2017.\\n\\n^ a b c \"Humans Mourn Loss After Google Is Unmasked as China\\'s Go Master\". Wall Street Journal. 5 January 2017. Retrieved 6 January 2017.\\n\\n^ \"The world\\'s best Go player says he still has \"one last move\" to defeat Google\\'s AlphaGo AI\". Quartz. 4 January 2017. Retrieved 6 January 2017.\\n\\n^ \"横扫中日韩棋手斩获59胜的Master发话：我是阿尔法狗\" (in Chinese). 澎湃新闻. 4 January 2017. Retrieved 11 December 2017.\\n\\n^ \"Exploring the mysteries of Go with AlphaGo and China\\'s top players\". 10 April 2017.\\n\\n^ \"World No.1 Go player Ke Jie takes on upgraded AlphaGo in May\". 10 April 2017.\\n\\n^ \"Ke Jie vs. AlphaGo: 8 things you must know\". 27 May 2017.\\n\\n^ \"8 things you should know about the AlphaGo vs. Ke Jie match\". 27 May 2017.\\n\\n^ \"Revamped AlphaGo Wins First Game Against Chinese Go Grandmaster\". 23 May 2017.\\n\\n^ \"Google\\'s AlphaGo Continues Dominance With Second Win in China\". 25 May 2017.\\n\\n^ \"Full length games for Go players to enjoy\". Deepmind. Retrieved 28 May 2017.\\n\\n^ a b c d e Silver, David; Schrittwieser, Julian; Simonyan, Karen; Antonoglou, Ioannis; Huang, Aja; Guez, Arthur; Hubert, Thomas; Baker, Lucas; Lai, Matthew; Bolton, Adrian; Chen, Yutian; Lillicrap, Timothy; Fan, Hui; Sifre, Laurent; Driessche, George van den; Graepel, Thore; Hassabis, Demis (19 October 2017). \"Mastering the game of Go without human knowledge\". Nature. 550 (7676): 354–359. Bibcode:2017Natur.550..354S. doi:10.1038/nature24270. ISSN\\xa00028-0836. PMID\\xa029052630.\\n\\n^ a b c d e \"AlphaGo Zero: Learning from scratch\". DeepMind official website. 18 October 2017. Retrieved 19 October 2017.\\n\\n^ Silver, David; Hubert, Thomas; Schrittwieser, Julian; Antonoglou, Ioannis; Lai, Matthew; Guez, Arthur; Lanctot, Marc; Sifre, Laurent; Kumaran, Dharshan; Graepel, Thore; Lillicrap, Timothy; Simonyan, Karen; Hassabis, Demis (5 December 2017). \"Mastering Chess and Shogi by Self-Play with a General Reinforcement Learning Algorithm\". arXiv:1712.01815 [cs.AI].\\n\\n^ \"AlphaGo teaching tool\". DeepMind.\\n\\n^ a b \"AlphaGo教学工具上线 樊麾：使用Master版本\" (in Chinese). Sina.com.cn. 11 December 2017. Retrieved 11 December 2017.\\n\\n^ McMillan, Robert (18 May 2016). \"Google Isn\\'t Playing Games With New Chip\". Wall Street Journal. Retrieved 26 June 2016.\\n\\n^ Jouppi, Norm (18 May 2016). \"Google supercharges machine learning tasks with TPU custom chip\". Google Cloud Platform Blog. Retrieved 26 June 2016.\\n\\n^ \"AlphaGo官方解读让三子 对人类高手没这种优势\" (in Chinese). Sina. 25 May 2017. Retrieved 2 June 2017.\\n\\n^ \"各版alphago实力对比 master能让李世石版3子\" (in Chinese). Sina. 24 May 2017. Retrieved 2 June 2017.\\n\\n^ \"New version of AlphaGo self-trained and much more efficient\". American Go Association. 24 May 2017. Retrieved 1 June 2017.\\n\\n^ \"【柯洁战败解密】AlphaGo Master最新架构和算法，谷歌云与TPU拆解\" (in Chinese). Sohu. 24 May 2017. Retrieved 1 June 2017.\\n\\n^ Cade Metz (13 March 2016). \"Go Grandmaster Lee Sedol Grabs Consolation Win Against Google\\'s AI\". Wired News. Retrieved 29 March 2016.\\n\\n^ a b Gibney, Elizabeth (27 January 2016). \"Google AI algorithm masters ancient game of Go\". Nature News & Comment. Retrieved 3 February 2016.\\n\\n^ Chouard, Tanguy (12 March 2016). \"The Go Files: AI computer clinches victory against Go champion\". Nature. doi:10.1038/nature.2016.19553.\\n\\n^ a b c d e f g h Steven Borowiec; Tracey Lien (12 March 2016). \"AlphaGo beats human Go champ in milestone for artificial intelligence\". Los Angeles Times. Retrieved 13 March 2016.\\n\\n^ Connor, Steve (27 January 2016). \"A computer has beaten a professional at the world\\'s most complex board game\". The Independent. Retrieved 28 January 2016.\\n\\n^ \"Google\\'s AI beats human champion at Go\". CBC News. 27 January 2016. Retrieved 28 January 2016.\\n\\n^ Dave Gershgorn (12 March 2016). \"GOOGLE\\'S ALPHAGO BEATS WORLD CHAMPION IN THIRD MATCH TO WIN ENTIRE SERIES\". Popular Science. Retrieved 13 March 2016.\\n\\n^ a b \"Google DeepMind computer AlphaGo sweeps human champ in Go matches\". CBC News. Associated Press. 12 March 2016. Retrieved 13 March 2016.\\n\\n^ Sofia Yan (12 March 2016). \"A Google computer victorious over the world\\'s \\'Go\\' champion\". CNN Money. Retrieved 13 March 2016.\\n\\n^ \"AlphaGo: Google\\'s artificial intelligence to take on world champion of ancient Chinese board game\". Australian Broadcasting Corporation. 8 March 2016. Retrieved 13 March 2016.\\n\\n^ a b Mariëtte Le Roux (12 March 2016). \"Rise of the Machines: Keep an eye on AI, experts warn\". Phys.org. Retrieved 13 March 2016.\\n\\n^ a b c Mariëtte Le Roux; Pascale Mollard (8 March 2016). \"Game over? New AI challenge to human smarts (Update)\". phys.org. Retrieved 13 March 2016.\\n\\n^ Tanya Lewis (11 March 2016). \"An AI expert says Google\\'s Go-playing program is missing 1 key feature of human intelligence\". Business Insider. Retrieved 13 March 2016.\\n\\n^ Mozur, Paul (20 July 2017). \"Beijing Wants A.I. to Be Made in China by 2030\". The New York Times. Retrieved 11 April 2018.\\n\\n^ \"Marvin Minsky Medal for Outstanding Achievements in AI\". International Joint Conference on Artificial Intelligence. 19 October 2017. Retrieved 21 October 2017.\\n\\n^ CHOE SANG-HUN (16 March 2016). \"Google\\'s Computer Program Beats Lee Se-dol in Go Tournament\". New York Times. Retrieved 18 March 2016. More than 100 million people watched the AlphaGo-Lee matches, Mr. Hassabis said.\\n\\n^ John Ribeiro (12 March 2016). \"Google\\'s AlphaGo AI program strong but not perfect, says defeated South Korean Go player\". PC World. Retrieved 13 March 2016.\\n\\n^ a b Gibney, Elizabeth (2016). \"Go players react to computer defeat\". Nature. doi:10.1038/nature.2016.19255.\\n\\n^ Zastrow, Mark (15 March 2016). \"How victory for Google\\'s Go AI is stoking fear in South Korea\". New Scientist. Retrieved 18 March 2016.\\n\\n^ JEE HEUN KAHNG; SE YOUNG LEE (15 March 2016). \"Google artificial intelligence program beats S. Korean Go pro with 4–1 score\". Reuters. Retrieved 18 March 2016.\\n\\n^ a b Neil Connor (11 March 2016). \"Google AlphaGo \\'can\\'t beat me\\' says China Go grandmaster\". The Telegraph (UK). Retrieved 13 March 2016.\\n\\n^ \"Chinese Go master Ke Jie says he could lose to AlphaGo\\xa0: The DONG-A ILBO\". Retrieved 17 March 2016.\\n\\n^ \"...if today\\'s performance was its true capability, then it doesn\\'t deserve to play against me\". M.hankooki.com. 14 March 2016. Retrieved 5 June 2018.\\n\\n^ CHOE SANG-HUN (15 March 2016). \"In Seoul, Go Games Spark Interest (and Concern) About Artificial Intelligence\". New York Times. Retrieved 18 March 2016.\\n\\n^ Tian, Yuandong; Zhu, Yan (2015). \"Better Computer Go Player with Neural Network and Long-term Prediction\". arXiv:1511.06410v1 [cs.LG].\\n\\n^ HAL 90210 (28 January 2016). \"No Go: Facebook fails to spoil Google\\'s big AI day\". The Guardian. ISSN\\xa00261-3077. Retrieved 1 February 2016.\\n\\n^ \"Strachey Lecture – Dr Demis Hassabis\". The New Livestream. Retrieved 17 March 2016.\\n\\n^ \"Go master Cho wins best-of-three series against Japan-made AI\". The Japan Times Online. 24 November 2016. Retrieved 27 November 2016.\\n\\n^ \"Humans strike back: Korean Go master bests AI in board game bout\". CNET. Retrieved 27 November 2016.\\n\\n^ \"Go and make some drugs The Engineer\". www.theengineer.co.uk. Retrieved 3 April 2018.\\n\\n^ https://www.alphagomovie.com/\\n\\n^ \"AlphaGo (2017)\". Rotten Tomatoes. Retrieved 5 June 2018.\\n\\n^ \"Go Ratings\". Go Ratings. Retrieved 5 June 2018.\\n\\n\\nExternal links[edit]\\n\\n\\n\\nWikiquote has quotations related to: AlphaGo\\n\\nOfficial website\\nAlphaGo wiki at Sensei\\'s Library, including links to AlphaGo games\\nAlphaGo page, with archive and games\\n\\n\\n\\n\\nRetrieved from \"https://en.wikipedia.org/w/index.php?title=AlphaGo&oldid=934266704\"\\nCategories: AlphaGo2015 softwareArtificial intelligence applicationsComputer GoGo software (game)GoogleApplied machine learningHidden categories: CS1 Chinese-language sources (zh)CS1 French-language sources (fr)CS1 Korean-language sources (ko)Use Oxford spelling from September 2016Use dmy dates from May 2017Wikipedia articles in need of updating from April 2016All Wikipedia articles in need of updatingAll articles with unsourced statementsArticles with unsourced statements from July 2017Articles with unsourced statements from May 2018Official website different in Wikidata and Wikipedia'"
      ]
     },
     "execution_count": 9,
     "metadata": {},
     "output_type": "execute_result"
    }
   ],
   "source": [
    "go = alpha.find('div',{'class':'mw-body'}).text.strip()\n",
    "go"
   ]
  },
  {
   "cell_type": "code",
   "execution_count": 10,
   "metadata": {},
   "outputs": [
    {
     "data": {
      "text/plain": [
       "' AlphaGo logo'"
      ]
     },
     "execution_count": 10,
     "metadata": {},
     "output_type": "execute_result"
    }
   ],
   "source": [
    "logo = alpha.find('div',{'class':'thumbinner'}).text\n",
    "logo"
   ]
  },
  {
   "cell_type": "code",
   "execution_count": 11,
   "metadata": {},
   "outputs": [
    {
     "data": {
      "text/plain": [
       "'//upload.wikimedia.org/wikipedia/commons/thumb/0/0b/Alphago_logo_Reversed.svg/220px-Alphago_logo_Reversed.svg.png'"
      ]
     },
     "execution_count": 11,
     "metadata": {},
     "output_type": "execute_result"
    }
   ],
   "source": [
    "image = alpha.find('img',{'alt':'AlphaGo logo'}).get('src')\n",
    "image"
   ]
  },
  {
   "cell_type": "code",
   "execution_count": 12,
   "metadata": {},
   "outputs": [
    {
     "data": {
      "text/plain": [
       "'Contents\\n\\n1 History\\n\\n1.1 Match against Fan Hui\\n1.2 Match against Lee Sedol\\n1.3 Sixty online games\\n1.4 Future of Go Summit\\n1.5 AlphaGo Zero and AlphaZero\\n1.6 Teaching tool\\n\\n\\n2 Versions\\n3 Algorithm\\n4 Style of play\\n5 Responses to 2016 victory\\n\\n5.1 AI community\\n5.2 Go community\\n\\n\\n6 Similar systems\\n7 Example game\\n8 Impacts on Go\\n9 See also\\n10 References\\n11 External links'"
      ]
     },
     "execution_count": 12,
     "metadata": {},
     "output_type": "execute_result"
    }
   ],
   "source": [
    "content = alpha.find('div',{'class':'toc'}).text.strip()\n",
    "content"
   ]
  },
  {
   "cell_type": "code",
   "execution_count": 13,
   "metadata": {},
   "outputs": [
    {
     "data": {
      "text/plain": [
       "'First 99 moves'"
      ]
     },
     "execution_count": 13,
     "metadata": {},
     "output_type": "execute_result"
    }
   ],
   "source": [
    "example = alpha.find('table',{'style':'display:inline; display:inline-table;'}).text.strip()\n",
    "example"
   ]
  },
  {
   "cell_type": "code",
   "execution_count": 14,
   "metadata": {
    "collapsed": true
   },
   "outputs": [
    {
     "data": {
      "text/plain": [
       "'^ \"Artificial intelligence: Google\\'s AlphaGo beats Go master Lee Se-dol\". BBC News. Retrieved 17 March 2016..mw-parser-output cite.citation{font-style:inherit}.mw-parser-output .citation q{quotes:\"\\\\\"\"\"\\\\\"\"\"\\'\"\"\\'\"}.mw-parser-output .id-lock-free a,.mw-parser-output .citation .cs1-lock-free a{background:url(\"//upload.wikimedia.org/wikipedia/commons/thumb/6/65/Lock-green.svg/9px-Lock-green.svg.png\")no-repeat;background-position:right .1em center}.mw-parser-output .id-lock-limited a,.mw-parser-output .id-lock-registration a,.mw-parser-output .citation .cs1-lock-limited a,.mw-parser-output .citation .cs1-lock-registration a{background:url(\"//upload.wikimedia.org/wikipedia/commons/thumb/d/d6/Lock-gray-alt-2.svg/9px-Lock-gray-alt-2.svg.png\")no-repeat;background-position:right .1em center}.mw-parser-output .id-lock-subscription a,.mw-parser-output .citation .cs1-lock-subscription a{background:url(\"//upload.wikimedia.org/wikipedia/commons/thumb/a/aa/Lock-red-alt-2.svg/9px-Lock-red-alt-2.svg.png\")no-repeat;background-position:right .1em center}.mw-parser-output .cs1-subscription,.mw-parser-output .cs1-registration{color:#555}.mw-parser-output .cs1-subscription span,.mw-parser-output .cs1-registration span{border-bottom:1px dotted;cursor:help}.mw-parser-output .cs1-ws-icon a{background:url(\"//upload.wikimedia.org/wikipedia/commons/thumb/4/4c/Wikisource-logo.svg/12px-Wikisource-logo.svg.png\")no-repeat;background-position:right .1em center}.mw-parser-output code.cs1-code{color:inherit;background:inherit;border:inherit;padding:inherit}.mw-parser-output .cs1-hidden-error{display:none;font-size:100%}.mw-parser-output .cs1-visible-error{font-size:100%}.mw-parser-output .cs1-maint{display:none;color:#33aa33;margin-left:0.3em}.mw-parser-output .cs1-subscription,.mw-parser-output .cs1-registration,.mw-parser-output .cs1-format{font-size:95%}.mw-parser-output .cs1-kern-left,.mw-parser-output .cs1-kern-wl-left{padding-left:0.2em}.mw-parser-output .cs1-kern-right,.mw-parser-output .cs1-kern-wl-right{padding-right:0.2em}\\n\\n^ \"DeepMind AlphaGO\". DeepMind Artificial Intelligence AlphaGo.\\n\\n^ \"AlphaGo | DeepMind\". DeepMind.\\n\\n^ a b c d e \"Research Blog: AlphaGo: Mastering the ancient game of Go with Machine Learning\". Google Research Blog. 27 January 2016.\\n\\n^ a b c d \"Google achieves AI \\'breakthrough\\' by beating Go champion\". BBC News. 27 January 2016.\\n\\n^ \"Match 1 – Google DeepMind Challenge Match: Lee Sedol vs AlphaGo\". 8 March 2016.\\n\\n^ \"Google\\'s AlphaGo gets \\'divine\\' Go ranking\". straitstimes.com. 15 March 2016. Retrieved 9 December 2017.\\n\\n^ \"AlphaGo Movie\".\\n\\n^ \"From AI to protein folding: Our Breakthrough runners-up\". Science. 22 December 2016. Retrieved 29 December 2016.\\n\\n^ a b \"中国围棋协会授予AlphaGo职业九段 并颁发证书\" (in Chinese). Sohu.com. 27 May 2017. Retrieved 9 December 2017.\\n\\n^ a b c d e f g h i Silver, David; Huang, Aja; Maddison, Chris J.; Guez, Arthur; Sifre, Laurent; Driessche, George van den; Schrittwieser, Julian; Antonoglou, Ioannis; Panneershelvam, Veda; Lanctot, Marc; Dieleman, Sander; Grewe, Dominik; Nham, John; Kalchbrenner, Nal; Sutskever, Ilya; Lillicrap, Timothy; Leach, Madeleine; Kavukcuoglu, Koray; Graepel, Thore; Hassabis, Demis (28 January 2016). \"Mastering the game of Go with deep neural networks and tree search\". Nature. 529 (7587): 484–489. Bibcode:2016Natur.529..484S. doi:10.1038/nature16961. ISSN\\xa00028-0836. PMID\\xa026819042.\\n\\n^ a b \"After Win in China, AlphaGo\\'s Designers Explore New AI\". 27 May 2017.\\n\\n^ Schraudolph, Nicol N.; Terrence, Peter Dayan; Sejnowski, J., Temporal Difference Learning of Position Evaluation in the Game of Go (PDF)\\n\\n^ a b \"Computer scores big win against humans in ancient game of Go\". CNN. 28 January 2016. Retrieved 28 January 2016.\\n\\n^ \"Zen computer Go program beats Takemiya Masaki with just 4 stones!\". Go Game Guru. Archived from the original on 1 February 2016. Retrieved 28 January 2016.\\n\\n^ \"「アマ六段の力。天才かも」囲碁棋士、コンピューターに敗れる\\u3000初の公式戦\". MSN Sankei News. Archived from the original on 24 March 2013. Retrieved 27 March 2013.\\n\\n^ a b c John Riberio (14 March 2016). \"AlphaGo\\'s unusual moves prove its AI prowess, experts say\". PC World. Retrieved 18 March 2016.\\n\\n^ \"Artificial intelligence breakthrough as Google\\'s software beats grandmaster of Go, the \\'most complex game ever devised\\'\". Daily Mail. 27 January 2016. Retrieved 29 January 2016.\\n\\n^ \"Google AlphaGo AI clean sweeps European Go champion\". ZDNet. 28 January 2016. Retrieved 28 January 2016.\\n\\n^ a b Metz, Cade (27 January 2016). \"In Major AI Breakthrough, Google System Secretly Beats Top Player at the Ancient Game of Go\". WIRED. Retrieved 1 February 2016.\\n\\n^ \"Special Computer Go insert covering the AlphaGo v Fan Hui match\" (PDF). British Go Journal. 2017. Retrieved 1 February 2016.\\n\\n^ \"Première défaite d\\'un professionnel du go contre une intelligence artificielle\". Le Monde (in French). 27 January 2016.\\n\\n^ \"Google\\'s AI AlphaGo to take on world No 1 Lee Sedol in live broadcast\". The Guardian. 5 February 2016. Retrieved 15 February 2016.\\n\\n^ \"Google DeepMind is going to take on the world\\'s best Go player in a luxury 5-star hotel in South Korea\". Business Insider. 22 February 2016. Retrieved 23 February 2016.\\n\\n^ Novet, Jordan (4 February 2016). \"YouTube will livestream Google\\'s AI playing Go superstar Lee Sedol in March\". VentureBeat. Retrieved 7 February 2016.\\n\\n^ a b c Yoon Sung-won (14 March 2016). \"Lee Se-dol shows AlphaGo beatable\". The Korea Times. Retrieved 15 March 2016.\\n\\n^ \"李世乭：即使Alpha Go得到升级也一样能赢\". JoongAng Ilbo (in Chinese). 23 February 2016. Retrieved 24 February 2016.\\n\\n^ a b \"이세돌 vs 알파고, \\'구글 딥마인드 챌린지 매치\\' 기자회견 열려\" (in Korean). Korea Baduk Association. 22 February 2016. Archived from the original on 3 March 2016. Retrieved 22 February 2016.\\n\\n^ Demis Hassabis [@demishassabis] (11 March 2016). \"We are using roughly same amount of compute power as in Fan Hui match: distributing search over further machines has diminishing returns\" (Tweet). Retrieved 14 March 2016 – via Twitter. \\n\\n^ \"Showdown\". The Economist. Retrieved 19 November 2016.\\n\\n^ Steven Borowiec (9 March 2016). \"Google\\'s AI machine v world champion of \\'Go\\': everything you need to know\". The Guardian. Retrieved 15 March 2016.\\n\\n^ a b Rémi Coulom. \"Rating List of 2016-01-01\". Archived from the original on 18 March 2016. Retrieved 18 March 2016.\\n\\n^ \"Korean Go master proves human intuition still powerful in Go\". The Korean Herald/ANN. 14 March 2016. Archived from the original on 12 April 2016. Retrieved 15 March 2016.\\n\\n^ \"Google\\'s AI beats world Go champion in first of five matches – BBC News\". BBC Online. Retrieved 9 March 2016.\\n\\n^ \"Google AI wins second Go game against world champion – BBC News\". BBC Online. Retrieved 10 March 2016.\\n\\n^ \"Google DeepMind AI wins final Go match for 4–1 series win\". Engadget. Retrieved 15 March 2016.\\n\\n^ \"Human champion certain he\\'ll beat AI at ancient Chinese game\". Associated Press. 22 February 2016. Retrieved 22 February 2016.\\n\\n^ \"In Two Moves, AlphaGo and Lee Sedol Redefined the Future\". WIRED. Retrieved 12 November 2017.\\n\\n^ \"黄士杰：AlphaGo李世石人机大战第四局问题已解决date=8 July 2016\" (in Chinese). Retrieved 8 July 2016.\\n\\n^ a b Demis Hassabis (4 January 2017). \"Demis Hassabis on Twitter: \"Excited to share an update on #AlphaGo!\"\". Demis Hassabis\\'s Twitter account. Retrieved 4 January 2017.\\n\\n^ a b c Elizabeth Gibney (4 January 2017). \"Google reveals secret test of AI bot to beat top Go players\". Nature. Retrieved 4 January 2017.\\n\\n^ a b c \"Humans Mourn Loss After Google Is Unmasked as China\\'s Go Master\". Wall Street Journal. 5 January 2017. Retrieved 6 January 2017.\\n\\n^ \"The world\\'s best Go player says he still has \"one last move\" to defeat Google\\'s AlphaGo AI\". Quartz. 4 January 2017. Retrieved 6 January 2017.\\n\\n^ \"横扫中日韩棋手斩获59胜的Master发话：我是阿尔法狗\" (in Chinese). 澎湃新闻. 4 January 2017. Retrieved 11 December 2017.\\n\\n^ \"Exploring the mysteries of Go with AlphaGo and China\\'s top players\". 10 April 2017.\\n\\n^ \"World No.1 Go player Ke Jie takes on upgraded AlphaGo in May\". 10 April 2017.\\n\\n^ \"Ke Jie vs. AlphaGo: 8 things you must know\". 27 May 2017.\\n\\n^ \"8 things you should know about the AlphaGo vs. Ke Jie match\". 27 May 2017.\\n\\n^ \"Revamped AlphaGo Wins First Game Against Chinese Go Grandmaster\". 23 May 2017.\\n\\n^ \"Google\\'s AlphaGo Continues Dominance With Second Win in China\". 25 May 2017.\\n\\n^ \"Full length games for Go players to enjoy\". Deepmind. Retrieved 28 May 2017.\\n\\n^ a b c d e Silver, David; Schrittwieser, Julian; Simonyan, Karen; Antonoglou, Ioannis; Huang, Aja; Guez, Arthur; Hubert, Thomas; Baker, Lucas; Lai, Matthew; Bolton, Adrian; Chen, Yutian; Lillicrap, Timothy; Fan, Hui; Sifre, Laurent; Driessche, George van den; Graepel, Thore; Hassabis, Demis (19 October 2017). \"Mastering the game of Go without human knowledge\". Nature. 550 (7676): 354–359. Bibcode:2017Natur.550..354S. doi:10.1038/nature24270. ISSN\\xa00028-0836. PMID\\xa029052630.\\n\\n^ a b c d e \"AlphaGo Zero: Learning from scratch\". DeepMind official website. 18 October 2017. Retrieved 19 October 2017.\\n\\n^ Silver, David; Hubert, Thomas; Schrittwieser, Julian; Antonoglou, Ioannis; Lai, Matthew; Guez, Arthur; Lanctot, Marc; Sifre, Laurent; Kumaran, Dharshan; Graepel, Thore; Lillicrap, Timothy; Simonyan, Karen; Hassabis, Demis (5 December 2017). \"Mastering Chess and Shogi by Self-Play with a General Reinforcement Learning Algorithm\". arXiv:1712.01815 [cs.AI].\\n\\n^ \"AlphaGo teaching tool\". DeepMind.\\n\\n^ a b \"AlphaGo教学工具上线 樊麾：使用Master版本\" (in Chinese). Sina.com.cn. 11 December 2017. Retrieved 11 December 2017.\\n\\n^ McMillan, Robert (18 May 2016). \"Google Isn\\'t Playing Games With New Chip\". Wall Street Journal. Retrieved 26 June 2016.\\n\\n^ Jouppi, Norm (18 May 2016). \"Google supercharges machine learning tasks with TPU custom chip\". Google Cloud Platform Blog. Retrieved 26 June 2016.\\n\\n^ \"AlphaGo官方解读让三子 对人类高手没这种优势\" (in Chinese). Sina. 25 May 2017. Retrieved 2 June 2017.\\n\\n^ \"各版alphago实力对比 master能让李世石版3子\" (in Chinese). Sina. 24 May 2017. Retrieved 2 June 2017.\\n\\n^ \"New version of AlphaGo self-trained and much more efficient\". American Go Association. 24 May 2017. Retrieved 1 June 2017.\\n\\n^ \"【柯洁战败解密】AlphaGo Master最新架构和算法，谷歌云与TPU拆解\" (in Chinese). Sohu. 24 May 2017. Retrieved 1 June 2017.\\n\\n^ Cade Metz (13 March 2016). \"Go Grandmaster Lee Sedol Grabs Consolation Win Against Google\\'s AI\". Wired News. Retrieved 29 March 2016.\\n\\n^ a b Gibney, Elizabeth (27 January 2016). \"Google AI algorithm masters ancient game of Go\". Nature News & Comment. Retrieved 3 February 2016.\\n\\n^ Chouard, Tanguy (12 March 2016). \"The Go Files: AI computer clinches victory against Go champion\". Nature. doi:10.1038/nature.2016.19553.\\n\\n^ a b c d e f g h Steven Borowiec; Tracey Lien (12 March 2016). \"AlphaGo beats human Go champ in milestone for artificial intelligence\". Los Angeles Times. Retrieved 13 March 2016.\\n\\n^ Connor, Steve (27 January 2016). \"A computer has beaten a professional at the world\\'s most complex board game\". The Independent. Retrieved 28 January 2016.\\n\\n^ \"Google\\'s AI beats human champion at Go\". CBC News. 27 January 2016. Retrieved 28 January 2016.\\n\\n^ Dave Gershgorn (12 March 2016). \"GOOGLE\\'S ALPHAGO BEATS WORLD CHAMPION IN THIRD MATCH TO WIN ENTIRE SERIES\". Popular Science. Retrieved 13 March 2016.\\n\\n^ a b \"Google DeepMind computer AlphaGo sweeps human champ in Go matches\". CBC News. Associated Press. 12 March 2016. Retrieved 13 March 2016.\\n\\n^ Sofia Yan (12 March 2016). \"A Google computer victorious over the world\\'s \\'Go\\' champion\". CNN Money. Retrieved 13 March 2016.\\n\\n^ \"AlphaGo: Google\\'s artificial intelligence to take on world champion of ancient Chinese board game\". Australian Broadcasting Corporation. 8 March 2016. Retrieved 13 March 2016.\\n\\n^ a b Mariëtte Le Roux (12 March 2016). \"Rise of the Machines: Keep an eye on AI, experts warn\". Phys.org. Retrieved 13 March 2016.\\n\\n^ a b c Mariëtte Le Roux; Pascale Mollard (8 March 2016). \"Game over? New AI challenge to human smarts (Update)\". phys.org. Retrieved 13 March 2016.\\n\\n^ Tanya Lewis (11 March 2016). \"An AI expert says Google\\'s Go-playing program is missing 1 key feature of human intelligence\". Business Insider. Retrieved 13 March 2016.\\n\\n^ Mozur, Paul (20 July 2017). \"Beijing Wants A.I. to Be Made in China by 2030\". The New York Times. Retrieved 11 April 2018.\\n\\n^ \"Marvin Minsky Medal for Outstanding Achievements in AI\". International Joint Conference on Artificial Intelligence. 19 October 2017. Retrieved 21 October 2017.\\n\\n^ CHOE SANG-HUN (16 March 2016). \"Google\\'s Computer Program Beats Lee Se-dol in Go Tournament\". New York Times. Retrieved 18 March 2016. More than 100 million people watched the AlphaGo-Lee matches, Mr. Hassabis said.\\n\\n^ John Ribeiro (12 March 2016). \"Google\\'s AlphaGo AI program strong but not perfect, says defeated South Korean Go player\". PC World. Retrieved 13 March 2016.\\n\\n^ a b Gibney, Elizabeth (2016). \"Go players react to computer defeat\". Nature. doi:10.1038/nature.2016.19255.\\n\\n^ Zastrow, Mark (15 March 2016). \"How victory for Google\\'s Go AI is stoking fear in South Korea\". New Scientist. Retrieved 18 March 2016.\\n\\n^ JEE HEUN KAHNG; SE YOUNG LEE (15 March 2016). \"Google artificial intelligence program beats S. Korean Go pro with 4–1 score\". Reuters. Retrieved 18 March 2016.\\n\\n^ a b Neil Connor (11 March 2016). \"Google AlphaGo \\'can\\'t beat me\\' says China Go grandmaster\". The Telegraph (UK). Retrieved 13 March 2016.\\n\\n^ \"Chinese Go master Ke Jie says he could lose to AlphaGo\\xa0: The DONG-A ILBO\". Retrieved 17 March 2016.\\n\\n^ \"...if today\\'s performance was its true capability, then it doesn\\'t deserve to play against me\". M.hankooki.com. 14 March 2016. Retrieved 5 June 2018.\\n\\n^ CHOE SANG-HUN (15 March 2016). \"In Seoul, Go Games Spark Interest (and Concern) About Artificial Intelligence\". New York Times. Retrieved 18 March 2016.\\n\\n^ Tian, Yuandong; Zhu, Yan (2015). \"Better Computer Go Player with Neural Network and Long-term Prediction\". arXiv:1511.06410v1 [cs.LG].\\n\\n^ HAL 90210 (28 January 2016). \"No Go: Facebook fails to spoil Google\\'s big AI day\". The Guardian. ISSN\\xa00261-3077. Retrieved 1 February 2016.\\n\\n^ \"Strachey Lecture – Dr Demis Hassabis\". The New Livestream. Retrieved 17 March 2016.\\n\\n^ \"Go master Cho wins best-of-three series against Japan-made AI\". The Japan Times Online. 24 November 2016. Retrieved 27 November 2016.\\n\\n^ \"Humans strike back: Korean Go master bests AI in board game bout\". CNET. Retrieved 27 November 2016.\\n\\n^ \"Go and make some drugs The Engineer\". www.theengineer.co.uk. Retrieved 3 April 2018.\\n\\n^ https://www.alphagomovie.com/\\n\\n^ \"AlphaGo (2017)\". Rotten Tomatoes. Retrieved 5 June 2018.\\n\\n^ \"Go Ratings\". Go Ratings. Retrieved 5 June 2018.'"
      ]
     },
     "execution_count": 14,
     "metadata": {},
     "output_type": "execute_result"
    }
   ],
   "source": [
    "reference = alpha.find('div',{'class':'reflist columns references-column-width'}).text.strip()\n",
    "reference"
   ]
  },
  {
   "cell_type": "code",
   "execution_count": 15,
   "metadata": {},
   "outputs": [
    {
     "data": {
      "text/plain": [
       "'This page was last edited on 5 January 2020, at 16:44\\xa0(UTC).\\nText is available under the Creative Commons Attribution-ShareAlike License;\\nadditional terms may apply.  By using this site, you agree to the Terms of Use and Privacy Policy. Wikipedia® is a registered trademark of the Wikimedia Foundation, Inc., a non-profit organization.\\n\\n\\nPrivacy policy\\nAbout Wikipedia\\nDisclaimers\\nContact Wikipedia\\nDevelopers\\nStatistics\\nCookie statement\\nMobile view'"
      ]
     },
     "execution_count": 15,
     "metadata": {},
     "output_type": "execute_result"
    }
   ],
   "source": [
    "footer = alpha.find('div',{'id':'footer'}).text.strip()\n",
    "footer"
   ]
  },
  {
   "cell_type": "code",
   "execution_count": 16,
   "metadata": {},
   "outputs": [],
   "source": [
    "import re"
   ]
  },
  {
   "cell_type": "code",
   "execution_count": 17,
   "metadata": {},
   "outputs": [],
   "source": [
    "alpha_pattern = re.findall('AlphaGo',go)"
   ]
  },
  {
   "cell_type": "code",
   "execution_count": 21,
   "metadata": {
    "collapsed": true
   },
   "outputs": [
    {
     "data": {
      "text/plain": [
       "['AlphaGo',\n",
       " 'AlphaGo',\n",
       " 'AlphaGo',\n",
       " 'AlphaGo',\n",
       " 'AlphaGo',\n",
       " 'AlphaGo',\n",
       " 'AlphaGo',\n",
       " 'AlphaGo',\n",
       " 'AlphaGo',\n",
       " 'AlphaGo',\n",
       " 'AlphaGo',\n",
       " 'AlphaGo',\n",
       " 'AlphaGo',\n",
       " 'AlphaGo',\n",
       " 'AlphaGo',\n",
       " 'AlphaGo',\n",
       " 'AlphaGo',\n",
       " 'AlphaGo',\n",
       " 'AlphaGo',\n",
       " 'AlphaGo',\n",
       " 'AlphaGo',\n",
       " 'AlphaGo',\n",
       " 'AlphaGo',\n",
       " 'AlphaGo',\n",
       " 'AlphaGo',\n",
       " 'AlphaGo',\n",
       " 'AlphaGo',\n",
       " 'AlphaGo',\n",
       " 'AlphaGo',\n",
       " 'AlphaGo',\n",
       " 'AlphaGo',\n",
       " 'AlphaGo',\n",
       " 'AlphaGo',\n",
       " 'AlphaGo',\n",
       " 'AlphaGo',\n",
       " 'AlphaGo',\n",
       " 'AlphaGo',\n",
       " 'AlphaGo',\n",
       " 'AlphaGo',\n",
       " 'AlphaGo',\n",
       " 'AlphaGo',\n",
       " 'AlphaGo',\n",
       " 'AlphaGo',\n",
       " 'AlphaGo',\n",
       " 'AlphaGo',\n",
       " 'AlphaGo',\n",
       " 'AlphaGo',\n",
       " 'AlphaGo',\n",
       " 'AlphaGo',\n",
       " 'AlphaGo',\n",
       " 'AlphaGo',\n",
       " 'AlphaGo',\n",
       " 'AlphaGo',\n",
       " 'AlphaGo',\n",
       " 'AlphaGo',\n",
       " 'AlphaGo',\n",
       " 'AlphaGo',\n",
       " 'AlphaGo',\n",
       " 'AlphaGo',\n",
       " 'AlphaGo',\n",
       " 'AlphaGo',\n",
       " 'AlphaGo',\n",
       " 'AlphaGo',\n",
       " 'AlphaGo',\n",
       " 'AlphaGo',\n",
       " 'AlphaGo',\n",
       " 'AlphaGo',\n",
       " 'AlphaGo',\n",
       " 'AlphaGo',\n",
       " 'AlphaGo',\n",
       " 'AlphaGo',\n",
       " 'AlphaGo',\n",
       " 'AlphaGo',\n",
       " 'AlphaGo',\n",
       " 'AlphaGo',\n",
       " 'AlphaGo',\n",
       " 'AlphaGo',\n",
       " 'AlphaGo',\n",
       " 'AlphaGo',\n",
       " 'AlphaGo',\n",
       " 'AlphaGo',\n",
       " 'AlphaGo',\n",
       " 'AlphaGo',\n",
       " 'AlphaGo',\n",
       " 'AlphaGo',\n",
       " 'AlphaGo',\n",
       " 'AlphaGo',\n",
       " 'AlphaGo',\n",
       " 'AlphaGo',\n",
       " 'AlphaGo',\n",
       " 'AlphaGo',\n",
       " 'AlphaGo',\n",
       " 'AlphaGo',\n",
       " 'AlphaGo',\n",
       " 'AlphaGo',\n",
       " 'AlphaGo',\n",
       " 'AlphaGo',\n",
       " 'AlphaGo',\n",
       " 'AlphaGo',\n",
       " 'AlphaGo',\n",
       " 'AlphaGo',\n",
       " 'AlphaGo',\n",
       " 'AlphaGo',\n",
       " 'AlphaGo',\n",
       " 'AlphaGo',\n",
       " 'AlphaGo',\n",
       " 'AlphaGo',\n",
       " 'AlphaGo',\n",
       " 'AlphaGo',\n",
       " 'AlphaGo',\n",
       " 'AlphaGo',\n",
       " 'AlphaGo',\n",
       " 'AlphaGo',\n",
       " 'AlphaGo',\n",
       " 'AlphaGo',\n",
       " 'AlphaGo',\n",
       " 'AlphaGo',\n",
       " 'AlphaGo',\n",
       " 'AlphaGo',\n",
       " 'AlphaGo',\n",
       " 'AlphaGo',\n",
       " 'AlphaGo',\n",
       " 'AlphaGo',\n",
       " 'AlphaGo',\n",
       " 'AlphaGo',\n",
       " 'AlphaGo',\n",
       " 'AlphaGo',\n",
       " 'AlphaGo',\n",
       " 'AlphaGo',\n",
       " 'AlphaGo',\n",
       " 'AlphaGo',\n",
       " 'AlphaGo',\n",
       " 'AlphaGo',\n",
       " 'AlphaGo',\n",
       " 'AlphaGo',\n",
       " 'AlphaGo',\n",
       " 'AlphaGo',\n",
       " 'AlphaGo',\n",
       " 'AlphaGo',\n",
       " 'AlphaGo',\n",
       " 'AlphaGo',\n",
       " 'AlphaGo',\n",
       " 'AlphaGo',\n",
       " 'AlphaGo',\n",
       " 'AlphaGo',\n",
       " 'AlphaGo',\n",
       " 'AlphaGo',\n",
       " 'AlphaGo',\n",
       " 'AlphaGo',\n",
       " 'AlphaGo',\n",
       " 'AlphaGo',\n",
       " 'AlphaGo',\n",
       " 'AlphaGo',\n",
       " 'AlphaGo']"
      ]
     },
     "execution_count": 21,
     "metadata": {},
     "output_type": "execute_result"
    }
   ],
   "source": [
    "alpha_pattern"
   ]
  },
  {
   "cell_type": "code",
   "execution_count": 22,
   "metadata": {},
   "outputs": [],
   "source": [
    "number = re.findall(r'([0-9]+\\s(March|June|July|August|September|October|November|December|April|May|January|February)\\s([0-9]+))',go)"
   ]
  },
  {
   "cell_type": "code",
   "execution_count": 23,
   "metadata": {
    "collapsed": true
   },
   "outputs": [
    {
     "data": {
      "text/plain": [
       "[('22 December 2016', 'December', '2016'),\n",
       " ('27 January 2016', 'January', '2016'),\n",
       " ('15 March 2016', 'March', '2016'),\n",
       " ('29 December 2016', 'December', '2016'),\n",
       " ('1 January 2017', 'January', '2017'),\n",
       " ('5 January 2017', 'January', '2017'),\n",
       " ('19 October 2017', 'October', '2017'),\n",
       " ('5 December 2017', 'December', '2017'),\n",
       " ('11 December 2017', 'December', '2017'),\n",
       " ('31 December 2016', 'December', '2016'),\n",
       " ('17 March 2016', 'March', '2016'),\n",
       " ('27 January 2016', 'January', '2016'),\n",
       " ('27 January 2016', 'January', '2016'),\n",
       " ('8 March 2016', 'March', '2016'),\n",
       " ('15 March 2016', 'March', '2016'),\n",
       " ('9 December 2017', 'December', '2017'),\n",
       " ('22 December 2016', 'December', '2016'),\n",
       " ('29 December 2016', 'December', '2016'),\n",
       " ('27 May 2017', 'May', '2017'),\n",
       " ('9 December 2017', 'December', '2017'),\n",
       " ('28 January 2016', 'January', '2016'),\n",
       " ('27 May 2017', 'May', '2017'),\n",
       " ('28 January 2016', 'January', '2016'),\n",
       " ('28 January 2016', 'January', '2016'),\n",
       " ('1 February 2016', 'February', '2016'),\n",
       " ('28 January 2016', 'January', '2016'),\n",
       " ('24 March 2013', 'March', '2013'),\n",
       " ('27 March 2013', 'March', '2013'),\n",
       " ('14 March 2016', 'March', '2016'),\n",
       " ('18 March 2016', 'March', '2016'),\n",
       " ('27 January 2016', 'January', '2016'),\n",
       " ('29 January 2016', 'January', '2016'),\n",
       " ('28 January 2016', 'January', '2016'),\n",
       " ('28 January 2016', 'January', '2016'),\n",
       " ('27 January 2016', 'January', '2016'),\n",
       " ('1 February 2016', 'February', '2016'),\n",
       " ('1 February 2016', 'February', '2016'),\n",
       " ('27 January 2016', 'January', '2016'),\n",
       " ('5 February 2016', 'February', '2016'),\n",
       " ('15 February 2016', 'February', '2016'),\n",
       " ('22 February 2016', 'February', '2016'),\n",
       " ('23 February 2016', 'February', '2016'),\n",
       " ('4 February 2016', 'February', '2016'),\n",
       " ('7 February 2016', 'February', '2016'),\n",
       " ('14 March 2016', 'March', '2016'),\n",
       " ('15 March 2016', 'March', '2016'),\n",
       " ('23 February 2016', 'February', '2016'),\n",
       " ('24 February 2016', 'February', '2016'),\n",
       " ('22 February 2016', 'February', '2016'),\n",
       " ('3 March 2016', 'March', '2016'),\n",
       " ('22 February 2016', 'February', '2016'),\n",
       " ('11 March 2016', 'March', '2016'),\n",
       " ('14 March 2016', 'March', '2016'),\n",
       " ('19 November 2016', 'November', '2016'),\n",
       " ('9 March 2016', 'March', '2016'),\n",
       " ('15 March 2016', 'March', '2016'),\n",
       " ('18 March 2016', 'March', '2016'),\n",
       " ('18 March 2016', 'March', '2016'),\n",
       " ('14 March 2016', 'March', '2016'),\n",
       " ('12 April 2016', 'April', '2016'),\n",
       " ('15 March 2016', 'March', '2016'),\n",
       " ('9 March 2016', 'March', '2016'),\n",
       " ('10 March 2016', 'March', '2016'),\n",
       " ('15 March 2016', 'March', '2016'),\n",
       " ('22 February 2016', 'February', '2016'),\n",
       " ('22 February 2016', 'February', '2016'),\n",
       " ('12 November 2017', 'November', '2017'),\n",
       " ('8 July 2016', 'July', '2016'),\n",
       " ('8 July 2016', 'July', '2016'),\n",
       " ('4 January 2017', 'January', '2017'),\n",
       " ('4 January 2017', 'January', '2017'),\n",
       " ('4 January 2017', 'January', '2017'),\n",
       " ('4 January 2017', 'January', '2017'),\n",
       " ('5 January 2017', 'January', '2017'),\n",
       " ('6 January 2017', 'January', '2017'),\n",
       " ('4 January 2017', 'January', '2017'),\n",
       " ('6 January 2017', 'January', '2017'),\n",
       " ('4 January 2017', 'January', '2017'),\n",
       " ('11 December 2017', 'December', '2017'),\n",
       " ('10 April 2017', 'April', '2017'),\n",
       " ('10 April 2017', 'April', '2017'),\n",
       " ('27 May 2017', 'May', '2017'),\n",
       " ('27 May 2017', 'May', '2017'),\n",
       " ('23 May 2017', 'May', '2017'),\n",
       " ('25 May 2017', 'May', '2017'),\n",
       " ('28 May 2017', 'May', '2017'),\n",
       " ('19 October 2017', 'October', '2017'),\n",
       " ('18 October 2017', 'October', '2017'),\n",
       " ('19 October 2017', 'October', '2017'),\n",
       " ('5 December 2017', 'December', '2017'),\n",
       " ('11 December 2017', 'December', '2017'),\n",
       " ('11 December 2017', 'December', '2017'),\n",
       " ('18 May 2016', 'May', '2016'),\n",
       " ('26 June 2016', 'June', '2016'),\n",
       " ('18 May 2016', 'May', '2016'),\n",
       " ('26 June 2016', 'June', '2016'),\n",
       " ('25 May 2017', 'May', '2017'),\n",
       " ('2 June 2017', 'June', '2017'),\n",
       " ('24 May 2017', 'May', '2017'),\n",
       " ('2 June 2017', 'June', '2017'),\n",
       " ('24 May 2017', 'May', '2017'),\n",
       " ('1 June 2017', 'June', '2017'),\n",
       " ('24 May 2017', 'May', '2017'),\n",
       " ('1 June 2017', 'June', '2017'),\n",
       " ('13 March 2016', 'March', '2016'),\n",
       " ('29 March 2016', 'March', '2016'),\n",
       " ('27 January 2016', 'January', '2016'),\n",
       " ('3 February 2016', 'February', '2016'),\n",
       " ('12 March 2016', 'March', '2016'),\n",
       " ('12 March 2016', 'March', '2016'),\n",
       " ('13 March 2016', 'March', '2016'),\n",
       " ('27 January 2016', 'January', '2016'),\n",
       " ('28 January 2016', 'January', '2016'),\n",
       " ('27 January 2016', 'January', '2016'),\n",
       " ('28 January 2016', 'January', '2016'),\n",
       " ('12 March 2016', 'March', '2016'),\n",
       " ('13 March 2016', 'March', '2016'),\n",
       " ('12 March 2016', 'March', '2016'),\n",
       " ('13 March 2016', 'March', '2016'),\n",
       " ('12 March 2016', 'March', '2016'),\n",
       " ('13 March 2016', 'March', '2016'),\n",
       " ('8 March 2016', 'March', '2016'),\n",
       " ('13 March 2016', 'March', '2016'),\n",
       " ('12 March 2016', 'March', '2016'),\n",
       " ('13 March 2016', 'March', '2016'),\n",
       " ('8 March 2016', 'March', '2016'),\n",
       " ('13 March 2016', 'March', '2016'),\n",
       " ('11 March 2016', 'March', '2016'),\n",
       " ('13 March 2016', 'March', '2016'),\n",
       " ('20 July 2017', 'July', '2017'),\n",
       " ('11 April 2018', 'April', '2018'),\n",
       " ('19 October 2017', 'October', '2017'),\n",
       " ('21 October 2017', 'October', '2017'),\n",
       " ('16 March 2016', 'March', '2016'),\n",
       " ('18 March 2016', 'March', '2016'),\n",
       " ('12 March 2016', 'March', '2016'),\n",
       " ('13 March 2016', 'March', '2016'),\n",
       " ('15 March 2016', 'March', '2016'),\n",
       " ('18 March 2016', 'March', '2016'),\n",
       " ('15 March 2016', 'March', '2016'),\n",
       " ('18 March 2016', 'March', '2016'),\n",
       " ('11 March 2016', 'March', '2016'),\n",
       " ('13 March 2016', 'March', '2016'),\n",
       " ('17 March 2016', 'March', '2016'),\n",
       " ('14 March 2016', 'March', '2016'),\n",
       " ('5 June 2018', 'June', '2018'),\n",
       " ('15 March 2016', 'March', '2016'),\n",
       " ('18 March 2016', 'March', '2016'),\n",
       " ('28 January 2016', 'January', '2016'),\n",
       " ('1 February 2016', 'February', '2016'),\n",
       " ('17 March 2016', 'March', '2016'),\n",
       " ('24 November 2016', 'November', '2016'),\n",
       " ('27 November 2016', 'November', '2016'),\n",
       " ('27 November 2016', 'November', '2016'),\n",
       " ('3 April 2018', 'April', '2018'),\n",
       " ('5 June 2018', 'June', '2018'),\n",
       " ('5 June 2018', 'June', '2018')]"
      ]
     },
     "execution_count": 23,
     "metadata": {},
     "output_type": "execute_result"
    }
   ],
   "source": [
    "number"
   ]
  },
  {
   "cell_type": "code",
   "execution_count": 24,
   "metadata": {},
   "outputs": [],
   "source": [
    "import pandas as pd\n",
    "import numpy as np\n",
    "import matplotlib.pyplot as plt\n",
    "import seaborn as sns\n",
    "%matplotlib inline"
   ]
  },
  {
   "cell_type": "code",
   "execution_count": 25,
   "metadata": {},
   "outputs": [
    {
     "data": {
      "text/plain": [
       "154"
      ]
     },
     "execution_count": 25,
     "metadata": {},
     "output_type": "execute_result"
    }
   ],
   "source": [
    "alpha_pattern.count('AlphaGo')"
   ]
  },
  {
   "cell_type": "code",
   "execution_count": 26,
   "metadata": {},
   "outputs": [
    {
     "data": {
      "text/plain": [
       "4"
      ]
     },
     "execution_count": 26,
     "metadata": {},
     "output_type": "execute_result"
    }
   ],
   "source": [
    "go.count('Wikipedia')"
   ]
  },
  {
   "cell_type": "code",
   "execution_count": null,
   "metadata": {},
   "outputs": [],
   "source": []
  }
 ],
 "metadata": {
  "kernelspec": {
   "display_name": "Python 3",
   "language": "python",
   "name": "python3"
  },
  "language_info": {
   "codemirror_mode": {
    "name": "ipython",
    "version": 3
   },
   "file_extension": ".py",
   "mimetype": "text/x-python",
   "name": "python",
   "nbconvert_exporter": "python",
   "pygments_lexer": "ipython3",
   "version": "3.7.6"
  }
 },
 "nbformat": 4,
 "nbformat_minor": 4
}

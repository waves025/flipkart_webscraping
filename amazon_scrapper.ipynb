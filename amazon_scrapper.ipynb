{
 "cells": [
  {
   "cell_type": "code",
   "execution_count": 1,
   "metadata": {},
   "outputs": [],
   "source": [
    "import urllib\n",
    "from bs4 import BeautifulSoup\n",
    "import time"
   ]
  },
  {
   "cell_type": "code",
   "execution_count": 2,
   "metadata": {},
   "outputs": [],
   "source": [
    "url = \"https://www.amazon.in/s?i=computers&bbn=1375424031&rh=n%3A976392031%2Cn%3A976393031%2Cn%3A1375424031%2Cp_85%3A10440599031%2Cp_72%3A1318477031&pf_rd_i=1375424031&pf_rd_m=A1K21FY43GMZF8&pf_rd_p=93ab47fc-f487-498b-aff1-4e97b87b9dbc&pf_rd_r=YSPD54J0A4ZPKGSKAG6N&pf_rd_s=merchandised-search-9&pf_rd_t=101&ref=s9_acss_bw_cg_INTELEXC_2b1_w\""
   ]
  },
  {
   "cell_type": "code",
   "execution_count": 3,
   "metadata": {},
   "outputs": [],
   "source": [
    "def make_soup(url):\n",
    "    time.sleep(5)\n",
    "    thepage = urllib.request.urlopen(url)\n",
    "    source = BeautifulSoup(thepage, 'html.parser')\n",
    "    \n",
    "    return source"
   ]
  },
  {
   "cell_type": "code",
   "execution_count": 4,
   "metadata": {},
   "outputs": [
    {
     "name": "stdout",
     "output_type": "stream",
     "text": [
      "Amazon.in: 3 Stars & Up - Prime Eligible / Laptops: Computers & Accessories\n"
     ]
    }
   ],
   "source": [
    "soup = make_soup(url)\n",
    "print(soup.title.text)"
   ]
  },
  {
   "cell_type": "code",
   "execution_count": 21,
   "metadata": {},
   "outputs": [],
   "source": [
    "def all_product_page(soup):\n",
    "    sections = soup.find('span',{'class':'s-latency-cf-section'})\n",
    "    products = sections.findAll('div', {'class': 'sg-col-inner'})\n",
    "    \n",
    "    list_products = []\n",
    "    \n",
    "    for prod in products:\n",
    "        name = prod.find('h2', {'class': 'a-size-mini'}).text.strip()\n",
    "        original_price = prod.find('span', {'class': 'a-price'}).text.strip()\n",
    "        discounted_price = prod.find('span', {'class': 'a-price-whole'}).text.strip()\n",
    "        product_url = \"https://amazon.in/%s\" % prod.find('h2', {'class': 'a-size-mini'}).find('a').get('href')\n",
    "        product_img_url = prod.find('img', {'class': 's-image'}).get('src')\n",
    "\n",
    "        list_products.append([name, original_price, discounted_price, product_url, product_img_url])\n",
    "            \n",
    "    return list_products"
   ]
  },
  {
   "cell_type": "code",
   "execution_count": 22,
   "metadata": {},
   "outputs": [],
   "source": [
    "def next_page_url(soup):\n",
    "    pagination = soup.find('ul', {'class': 'a-pagination'})\n",
    "    \n",
    "    return \"https://amazon.in%s\" % pagination.findAll('li')[-1].find('a').get('href')\n",
    "    next_page_url(soup)\n"
   ]
  },
  {
   "cell_type": "code",
   "execution_count": null,
   "metadata": {},
   "outputs": [],
   "source": []
  }
 ],
 "metadata": {
  "kernelspec": {
   "display_name": "Python 3",
   "language": "python",
   "name": "python3"
  },
  "language_info": {
   "codemirror_mode": {
    "name": "ipython",
    "version": 3
   },
   "file_extension": ".py",
   "mimetype": "text/x-python",
   "name": "python",
   "nbconvert_exporter": "python",
   "pygments_lexer": "ipython3",
   "version": "3.7.6"
  }
 },
 "nbformat": 4,
 "nbformat_minor": 4
}
